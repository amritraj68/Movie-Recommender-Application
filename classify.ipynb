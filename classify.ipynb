{
 "cells": [
  {
   "cell_type": "code",
   "execution_count": 1,
   "metadata": {},
   "outputs": [],
   "source": [
    "#Importing the required libraries\n",
    "import numpy as np  # linear algebra"
   ]
  },
  {
   "cell_type": "code",
   "execution_count": 2,
   "metadata": {},
   "outputs": [],
   "source": [
    "import pandas as pd  # data processing, CSV file I/O (e.g. pd.read_csv)"
   ]
  },
  {
   "cell_type": "code",
   "execution_count": 3,
   "metadata": {},
   "outputs": [],
   "source": [
    "import ast"
   ]
  },
  {
   "cell_type": "code",
   "execution_count": 127,
   "metadata": {},
   "outputs": [],
   "source": [
    "from sklearn.preprocessing import MultiLabelBinarizer"
   ]
  },
  {
   "cell_type": "markdown",
   "metadata": {},
   "source": [
    "Importing the dataset that is to be analysed"
   ]
  },
  {
   "cell_type": "code",
   "execution_count": 128,
   "metadata": {},
   "outputs": [],
   "source": [
    "data = pd.read_csv('movies.csv', encoding='ISO-8859-1')"
   ]
  },
  {
   "cell_type": "code",
   "execution_count": 129,
   "metadata": {},
   "outputs": [],
   "source": [
    "data = data[~data['overview'].isna()]"
   ]
  },
  {
   "cell_type": "code",
   "execution_count": 130,
   "metadata": {},
   "outputs": [
    {
     "data": {
      "text/plain": [
       "Index(['genres', 'homepage', 'id', 'keywords', 'original_title', 'overview',\n",
       "       'production_companies', 'production_countries', 'tagline', 'title',\n",
       "       'vote_average', 'vote_count'],\n",
       "      dtype='object')"
      ]
     },
     "execution_count": 130,
     "metadata": {},
     "output_type": "execute_result"
    }
   ],
   "source": [
    "data.columns # Shows the number of features present in the movies.csv dataset file"
   ]
  },
  {
   "cell_type": "code",
   "execution_count": 131,
   "metadata": {},
   "outputs": [],
   "source": [
    "# which rows actually have genres and not a blank list\n",
    "has_genres_mask = data['genres'] != '[]'"
   ]
  },
  {
   "cell_type": "code",
   "execution_count": 132,
   "metadata": {},
   "outputs": [],
   "source": [
    "genres = data['genres'][has_genres_mask]"
   ]
  },
  {
   "cell_type": "code",
   "execution_count": 133,
   "metadata": {},
   "outputs": [
    {
     "data": {
      "text/plain": [
       "0    [{\"id\": 28, \"name\": \"Action\"}, {\"id\": 12, \"nam...\n",
       "1    [{\"id\": 12, \"name\": \"Adventure\"}, {\"id\": 14, \"...\n",
       "2    [{\"id\": 28, \"name\": \"Action\"}, {\"id\": 12, \"nam...\n",
       "3    [{\"id\": 28, \"name\": \"Action\"}, {\"id\": 80, \"nam...\n",
       "4    [{\"id\": 28, \"name\": \"Action\"}, {\"id\": 12, \"nam...\n",
       "5    [{\"id\": 14, \"name\": \"Fantasy\"}, {\"id\": 28, \"na...\n",
       "6    [{\"id\": 16, \"name\": \"Animation\"}, {\"id\": 10751...\n",
       "7    [{\"id\": 28, \"name\": \"Action\"}, {\"id\": 12, \"nam...\n",
       "8    [{\"id\": 12, \"name\": \"Adventure\"}, {\"id\": 14, \"...\n",
       "9    [{\"id\": 28, \"name\": \"Action\"}, {\"id\": 12, \"nam...\n",
       "Name: genres, dtype: object"
      ]
     },
     "execution_count": 133,
     "metadata": {},
     "output_type": "execute_result"
    }
   ],
   "source": [
    "genres.head(10)"
   ]
  },
  {
   "cell_type": "code",
   "execution_count": 134,
   "metadata": {},
   "outputs": [],
   "source": [
    "def to_labels(genres_list):\n",
    "    genres_list = ast.literal_eval(genres_list)\n",
    "    return [g['name'] for g in genres_list]"
   ]
  },
  {
   "cell_type": "markdown",
   "metadata": {},
   "source": [
    "Bringing the genres to 8 genres\n",
    "\n",
    "Action,\n",
    "Adventure\n",
    "Fantasy\n",
    "Science\n",
    "Fiction\n",
    "Crime\n",
    "Drama\n",
    "Thriller"
   ]
  },
  {
   "cell_type": "code",
   "execution_count": 135,
   "metadata": {},
   "outputs": [],
   "source": [
    "genres_strings = genres.apply(to_labels)"
   ]
  },
  {
   "cell_type": "code",
   "execution_count": 136,
   "metadata": {},
   "outputs": [
    {
     "data": {
      "text/plain": [
       "0    [Action, Adventure, Fantasy, Science Fiction]\n",
       "1                     [Adventure, Fantasy, Action]\n",
       "2                       [Action, Adventure, Crime]\n",
       "3                 [Action, Crime, Drama, Thriller]\n",
       "4             [Action, Adventure, Science Fiction]\n",
       "Name: genres, dtype: object"
      ]
     },
     "execution_count": 136,
     "metadata": {},
     "output_type": "execute_result"
    }
   ],
   "source": [
    "genres_strings.head()"
   ]
  },
  {
   "cell_type": "code",
   "execution_count": 137,
   "metadata": {},
   "outputs": [],
   "source": [
    "labeler = MultiLabelBinarizer()"
   ]
  },
  {
   "cell_type": "code",
   "execution_count": 138,
   "metadata": {},
   "outputs": [
    {
     "data": {
      "text/plain": [
       "MultiLabelBinarizer(classes=None, sparse_output=False)"
      ]
     },
     "execution_count": 138,
     "metadata": {},
     "output_type": "execute_result"
    }
   ],
   "source": [
    "labeler.fit(genres_strings)\n",
    "#A set of labels (any orderable and hashable object) for each genre. If the classes parameter is set, genres will not be iterated."
   ]
  },
  {
   "cell_type": "code",
   "execution_count": 139,
   "metadata": {},
   "outputs": [
    {
     "data": {
      "text/plain": [
       "array(['Action', 'Adventure', 'Animation', 'Comedy', 'Crime',\n",
       "       'Documentary', 'Drama', 'Family', 'Fantasy', 'Foreign', 'History',\n",
       "       'Horror', 'Music', 'Mystery', 'Romance', 'Science Fiction',\n",
       "       'TV Movie', 'Thriller', 'War', 'Western'], dtype=object)"
      ]
     },
     "execution_count": 139,
     "metadata": {},
     "output_type": "execute_result"
    }
   ],
   "source": [
    "labeler.classes_"
   ]
  },
  {
   "cell_type": "code",
   "execution_count": 140,
   "metadata": {},
   "outputs": [
    {
     "data": {
      "text/plain": [
       "((4755,), (4755, 20))"
      ]
     },
     "execution_count": 140,
     "metadata": {},
     "output_type": "execute_result"
    }
   ],
   "source": [
    "X = data['overview'][has_genres_mask]\n",
    "y = labeler.transform(genres_strings)\n",
    "\n",
    "X.shape, y.shape"
   ]
  },
  {
   "cell_type": "markdown",
   "metadata": {},
   "source": [
    "4758 movies distributed among 20 genres"
   ]
  },
  {
   "cell_type": "code",
   "execution_count": 141,
   "metadata": {},
   "outputs": [
    {
     "data": {
      "text/html": [
       "<div>\n",
       "<style scoped>\n",
       "    .dataframe tbody tr th:only-of-type {\n",
       "        vertical-align: middle;\n",
       "    }\n",
       "\n",
       "    .dataframe tbody tr th {\n",
       "        vertical-align: top;\n",
       "    }\n",
       "\n",
       "    .dataframe thead th {\n",
       "        text-align: right;\n",
       "    }\n",
       "</style>\n",
       "<table border=\"1\" class=\"dataframe\">\n",
       "  <thead>\n",
       "    <tr style=\"text-align: right;\">\n",
       "      <th></th>\n",
       "      <th>Action</th>\n",
       "      <th>Adventure</th>\n",
       "      <th>Animation</th>\n",
       "      <th>Comedy</th>\n",
       "      <th>Crime</th>\n",
       "      <th>Documentary</th>\n",
       "      <th>Drama</th>\n",
       "      <th>Family</th>\n",
       "      <th>Fantasy</th>\n",
       "      <th>Foreign</th>\n",
       "      <th>History</th>\n",
       "      <th>Horror</th>\n",
       "      <th>Music</th>\n",
       "      <th>Mystery</th>\n",
       "      <th>Romance</th>\n",
       "      <th>Science Fiction</th>\n",
       "      <th>TV Movie</th>\n",
       "      <th>Thriller</th>\n",
       "      <th>War</th>\n",
       "      <th>Western</th>\n",
       "    </tr>\n",
       "  </thead>\n",
       "  <tbody>\n",
       "    <tr>\n",
       "      <th>Action</th>\n",
       "      <td>1.000000</td>\n",
       "      <td>0.362317</td>\n",
       "      <td>-0.067958</td>\n",
       "      <td>-0.162332</td>\n",
       "      <td>0.149805</td>\n",
       "      <td>-0.076057</td>\n",
       "      <td>-0.212655</td>\n",
       "      <td>-0.097238</td>\n",
       "      <td>0.071720</td>\n",
       "      <td>-0.018678</td>\n",
       "      <td>0.022215</td>\n",
       "      <td>-0.077234</td>\n",
       "      <td>-0.090564</td>\n",
       "      <td>-0.050468</td>\n",
       "      <td>-0.191829</td>\n",
       "      <td>0.228162</td>\n",
       "      <td>-0.011152</td>\n",
       "      <td>0.266263</td>\n",
       "      <td>0.059019</td>\n",
       "      <td>0.054935</td>\n",
       "    </tr>\n",
       "    <tr>\n",
       "      <th>Adventure</th>\n",
       "      <td>0.362317</td>\n",
       "      <td>1.000000</td>\n",
       "      <td>0.194620</td>\n",
       "      <td>-0.072852</td>\n",
       "      <td>-0.093975</td>\n",
       "      <td>-0.060186</td>\n",
       "      <td>-0.220948</td>\n",
       "      <td>0.229799</td>\n",
       "      <td>0.234295</td>\n",
       "      <td>-0.024291</td>\n",
       "      <td>-0.014832</td>\n",
       "      <td>-0.119118</td>\n",
       "      <td>-0.068962</td>\n",
       "      <td>-0.044181</td>\n",
       "      <td>-0.118099</td>\n",
       "      <td>0.208297</td>\n",
       "      <td>-0.018255</td>\n",
       "      <td>-0.008531</td>\n",
       "      <td>0.021201</td>\n",
       "      <td>0.033391</td>\n",
       "    </tr>\n",
       "    <tr>\n",
       "      <th>Animation</th>\n",
       "      <td>-0.067958</td>\n",
       "      <td>0.194620</td>\n",
       "      <td>1.000000</td>\n",
       "      <td>0.084477</td>\n",
       "      <td>-0.093413</td>\n",
       "      <td>-0.034448</td>\n",
       "      <td>-0.180509</td>\n",
       "      <td>0.534346</td>\n",
       "      <td>0.132738</td>\n",
       "      <td>-0.007567</td>\n",
       "      <td>-0.046728</td>\n",
       "      <td>-0.079010</td>\n",
       "      <td>0.025357</td>\n",
       "      <td>-0.059639</td>\n",
       "      <td>-0.088621</td>\n",
       "      <td>0.012733</td>\n",
       "      <td>0.014592</td>\n",
       "      <td>-0.129777</td>\n",
       "      <td>-0.034062</td>\n",
       "      <td>-0.014628</td>\n",
       "    </tr>\n",
       "    <tr>\n",
       "      <th>Comedy</th>\n",
       "      <td>-0.162332</td>\n",
       "      <td>-0.072852</td>\n",
       "      <td>0.084477</td>\n",
       "      <td>1.000000</td>\n",
       "      <td>-0.087893</td>\n",
       "      <td>-0.082394</td>\n",
       "      <td>-0.221215</td>\n",
       "      <td>0.161503</td>\n",
       "      <td>0.021268</td>\n",
       "      <td>-0.017100</td>\n",
       "      <td>-0.131324</td>\n",
       "      <td>-0.153513</td>\n",
       "      <td>0.038754</td>\n",
       "      <td>-0.165681</td>\n",
       "      <td>0.180638</td>\n",
       "      <td>-0.116117</td>\n",
       "      <td>0.011833</td>\n",
       "      <td>-0.343433</td>\n",
       "      <td>-0.111994</td>\n",
       "      <td>-0.044932</td>\n",
       "    </tr>\n",
       "    <tr>\n",
       "      <th>Crime</th>\n",
       "      <td>0.149805</td>\n",
       "      <td>-0.093975</td>\n",
       "      <td>-0.093413</td>\n",
       "      <td>-0.087893</td>\n",
       "      <td>1.000000</td>\n",
       "      <td>-0.059023</td>\n",
       "      <td>0.054740</td>\n",
       "      <td>-0.128058</td>\n",
       "      <td>-0.107874</td>\n",
       "      <td>-0.006804</td>\n",
       "      <td>-0.046439</td>\n",
       "      <td>-0.077628</td>\n",
       "      <td>-0.049290</td>\n",
       "      <td>0.122192</td>\n",
       "      <td>-0.127101</td>\n",
       "      <td>-0.112895</td>\n",
       "      <td>-0.002436</td>\n",
       "      <td>0.305134</td>\n",
       "      <td>-0.058842</td>\n",
       "      <td>-0.012991</td>\n",
       "    </tr>\n",
       "    <tr>\n",
       "      <th>Documentary</th>\n",
       "      <td>-0.076057</td>\n",
       "      <td>-0.060186</td>\n",
       "      <td>-0.034448</td>\n",
       "      <td>-0.082394</td>\n",
       "      <td>-0.059023</td>\n",
       "      <td>1.000000</td>\n",
       "      <td>-0.127101</td>\n",
       "      <td>-0.030110</td>\n",
       "      <td>-0.047514</td>\n",
       "      <td>0.020569</td>\n",
       "      <td>0.011182</td>\n",
       "      <td>-0.048774</td>\n",
       "      <td>0.078824</td>\n",
       "      <td>-0.037346</td>\n",
       "      <td>-0.073307</td>\n",
       "      <td>-0.054166</td>\n",
       "      <td>-0.006258</td>\n",
       "      <td>-0.088839</td>\n",
       "      <td>-0.026844</td>\n",
       "      <td>-0.020069</td>\n",
       "    </tr>\n",
       "    <tr>\n",
       "      <th>Drama</th>\n",
       "      <td>-0.212655</td>\n",
       "      <td>-0.220948</td>\n",
       "      <td>-0.180509</td>\n",
       "      <td>-0.221215</td>\n",
       "      <td>0.054740</td>\n",
       "      <td>-0.127101</td>\n",
       "      <td>1.000000</td>\n",
       "      <td>-0.169866</td>\n",
       "      <td>-0.153594</td>\n",
       "      <td>0.053116</td>\n",
       "      <td>0.167946</td>\n",
       "      <td>-0.223391</td>\n",
       "      <td>0.036879</td>\n",
       "      <td>0.012879</td>\n",
       "      <td>0.186573</td>\n",
       "      <td>-0.206234</td>\n",
       "      <td>0.011799</td>\n",
       "      <td>-0.057424</td>\n",
       "      <td>0.118691</td>\n",
       "      <td>-0.016239</td>\n",
       "    </tr>\n",
       "    <tr>\n",
       "      <th>Family</th>\n",
       "      <td>-0.097238</td>\n",
       "      <td>0.229799</td>\n",
       "      <td>0.534346</td>\n",
       "      <td>0.161503</td>\n",
       "      <td>-0.128058</td>\n",
       "      <td>-0.030110</td>\n",
       "      <td>-0.169866</td>\n",
       "      <td>1.000000</td>\n",
       "      <td>0.248018</td>\n",
       "      <td>-0.005269</td>\n",
       "      <td>-0.068332</td>\n",
       "      <td>-0.119148</td>\n",
       "      <td>0.042557</td>\n",
       "      <td>-0.081692</td>\n",
       "      <td>-0.076445</td>\n",
       "      <td>0.001551</td>\n",
       "      <td>0.035462</td>\n",
       "      <td>-0.198727</td>\n",
       "      <td>-0.061101</td>\n",
       "      <td>-0.029936</td>\n",
       "    </tr>\n",
       "    <tr>\n",
       "      <th>Fantasy</th>\n",
       "      <td>0.071720</td>\n",
       "      <td>0.234295</td>\n",
       "      <td>0.132738</td>\n",
       "      <td>0.021268</td>\n",
       "      <td>-0.107874</td>\n",
       "      <td>-0.047514</td>\n",
       "      <td>-0.153594</td>\n",
       "      <td>0.248018</td>\n",
       "      <td>1.000000</td>\n",
       "      <td>-0.026450</td>\n",
       "      <td>-0.064451</td>\n",
       "      <td>0.016959</td>\n",
       "      <td>-0.020595</td>\n",
       "      <td>-0.033367</td>\n",
       "      <td>-0.028556</td>\n",
       "      <td>0.086377</td>\n",
       "      <td>-0.012795</td>\n",
       "      <td>-0.082732</td>\n",
       "      <td>-0.041877</td>\n",
       "      <td>-0.029587</td>\n",
       "    </tr>\n",
       "    <tr>\n",
       "      <th>Foreign</th>\n",
       "      <td>-0.018678</td>\n",
       "      <td>-0.024291</td>\n",
       "      <td>-0.007567</td>\n",
       "      <td>-0.017100</td>\n",
       "      <td>-0.006804</td>\n",
       "      <td>0.020569</td>\n",
       "      <td>0.053116</td>\n",
       "      <td>-0.005269</td>\n",
       "      <td>-0.026450</td>\n",
       "      <td>1.000000</td>\n",
       "      <td>0.020209</td>\n",
       "      <td>-0.029673</td>\n",
       "      <td>-0.017075</td>\n",
       "      <td>-0.023810</td>\n",
       "      <td>0.016710</td>\n",
       "      <td>-0.030153</td>\n",
       "      <td>-0.003484</td>\n",
       "      <td>-0.034305</td>\n",
       "      <td>-0.000329</td>\n",
       "      <td>-0.011172</td>\n",
       "    </tr>\n",
       "    <tr>\n",
       "      <th>History</th>\n",
       "      <td>0.022215</td>\n",
       "      <td>-0.014832</td>\n",
       "      <td>-0.046728</td>\n",
       "      <td>-0.131324</td>\n",
       "      <td>-0.046439</td>\n",
       "      <td>0.011182</td>\n",
       "      <td>0.167946</td>\n",
       "      <td>-0.068332</td>\n",
       "      <td>-0.064451</td>\n",
       "      <td>0.020209</td>\n",
       "      <td>1.000000</td>\n",
       "      <td>-0.068902</td>\n",
       "      <td>-0.008702</td>\n",
       "      <td>-0.045788</td>\n",
       "      <td>-0.017979</td>\n",
       "      <td>-0.073475</td>\n",
       "      <td>-0.008489</td>\n",
       "      <td>-0.074500</td>\n",
       "      <td>0.329932</td>\n",
       "      <td>0.038339</td>\n",
       "    </tr>\n",
       "    <tr>\n",
       "      <th>Horror</th>\n",
       "      <td>-0.077234</td>\n",
       "      <td>-0.119118</td>\n",
       "      <td>-0.079010</td>\n",
       "      <td>-0.153513</td>\n",
       "      <td>-0.077628</td>\n",
       "      <td>-0.048774</td>\n",
       "      <td>-0.223391</td>\n",
       "      <td>-0.119148</td>\n",
       "      <td>0.016959</td>\n",
       "      <td>-0.029673</td>\n",
       "      <td>-0.068902</td>\n",
       "      <td>1.000000</td>\n",
       "      <td>-0.059878</td>\n",
       "      <td>0.135466</td>\n",
       "      <td>-0.142209</td>\n",
       "      <td>0.079029</td>\n",
       "      <td>0.002116</td>\n",
       "      <td>0.231362</td>\n",
       "      <td>-0.057616</td>\n",
       "      <td>-0.040813</td>\n",
       "    </tr>\n",
       "    <tr>\n",
       "      <th>Music</th>\n",
       "      <td>-0.090564</td>\n",
       "      <td>-0.068962</td>\n",
       "      <td>0.025357</td>\n",
       "      <td>0.038754</td>\n",
       "      <td>-0.049290</td>\n",
       "      <td>0.078824</td>\n",
       "      <td>0.036879</td>\n",
       "      <td>0.042557</td>\n",
       "      <td>-0.020595</td>\n",
       "      <td>-0.017075</td>\n",
       "      <td>-0.008702</td>\n",
       "      <td>-0.059878</td>\n",
       "      <td>1.000000</td>\n",
       "      <td>-0.043907</td>\n",
       "      <td>0.073116</td>\n",
       "      <td>-0.064593</td>\n",
       "      <td>0.018277</td>\n",
       "      <td>-0.109168</td>\n",
       "      <td>-0.029061</td>\n",
       "      <td>-0.001273</td>\n",
       "    </tr>\n",
       "    <tr>\n",
       "      <th>Mystery</th>\n",
       "      <td>-0.050468</td>\n",
       "      <td>-0.044181</td>\n",
       "      <td>-0.059639</td>\n",
       "      <td>-0.165681</td>\n",
       "      <td>0.122192</td>\n",
       "      <td>-0.037346</td>\n",
       "      <td>0.012879</td>\n",
       "      <td>-0.081692</td>\n",
       "      <td>-0.033367</td>\n",
       "      <td>-0.023810</td>\n",
       "      <td>-0.045788</td>\n",
       "      <td>0.135466</td>\n",
       "      <td>-0.043907</td>\n",
       "      <td>1.000000</td>\n",
       "      <td>-0.085229</td>\n",
       "      <td>0.020770</td>\n",
       "      <td>-0.011518</td>\n",
       "      <td>0.271059</td>\n",
       "      <td>-0.035202</td>\n",
       "      <td>-0.024438</td>\n",
       "    </tr>\n",
       "    <tr>\n",
       "      <th>Romance</th>\n",
       "      <td>-0.191829</td>\n",
       "      <td>-0.118099</td>\n",
       "      <td>-0.088621</td>\n",
       "      <td>0.180638</td>\n",
       "      <td>-0.127101</td>\n",
       "      <td>-0.073307</td>\n",
       "      <td>0.186573</td>\n",
       "      <td>-0.076445</td>\n",
       "      <td>-0.028556</td>\n",
       "      <td>0.016710</td>\n",
       "      <td>-0.017979</td>\n",
       "      <td>-0.142209</td>\n",
       "      <td>0.073116</td>\n",
       "      <td>-0.085229</td>\n",
       "      <td>1.000000</td>\n",
       "      <td>-0.117941</td>\n",
       "      <td>0.019677</td>\n",
       "      <td>-0.212390</td>\n",
       "      <td>-0.002698</td>\n",
       "      <td>-0.013366</td>\n",
       "    </tr>\n",
       "    <tr>\n",
       "      <th>Science Fiction</th>\n",
       "      <td>0.228162</td>\n",
       "      <td>0.208297</td>\n",
       "      <td>0.012733</td>\n",
       "      <td>-0.116117</td>\n",
       "      <td>-0.112895</td>\n",
       "      <td>-0.054166</td>\n",
       "      <td>-0.206234</td>\n",
       "      <td>0.001551</td>\n",
       "      <td>0.086377</td>\n",
       "      <td>-0.030153</td>\n",
       "      <td>-0.073475</td>\n",
       "      <td>0.079029</td>\n",
       "      <td>-0.064593</td>\n",
       "      <td>0.020770</td>\n",
       "      <td>-0.117941</td>\n",
       "      <td>1.000000</td>\n",
       "      <td>-0.014586</td>\n",
       "      <td>0.103423</td>\n",
       "      <td>-0.054758</td>\n",
       "      <td>-0.041622</td>\n",
       "    </tr>\n",
       "    <tr>\n",
       "      <th>TV Movie</th>\n",
       "      <td>-0.011152</td>\n",
       "      <td>-0.018255</td>\n",
       "      <td>0.014592</td>\n",
       "      <td>0.011833</td>\n",
       "      <td>-0.002436</td>\n",
       "      <td>-0.006258</td>\n",
       "      <td>0.011799</td>\n",
       "      <td>0.035462</td>\n",
       "      <td>-0.012795</td>\n",
       "      <td>-0.003484</td>\n",
       "      <td>-0.008489</td>\n",
       "      <td>0.002116</td>\n",
       "      <td>0.018277</td>\n",
       "      <td>-0.011518</td>\n",
       "      <td>0.019677</td>\n",
       "      <td>-0.014586</td>\n",
       "      <td>1.000000</td>\n",
       "      <td>-0.013184</td>\n",
       "      <td>-0.007229</td>\n",
       "      <td>-0.005404</td>\n",
       "    </tr>\n",
       "    <tr>\n",
       "      <th>Thriller</th>\n",
       "      <td>0.266263</td>\n",
       "      <td>-0.008531</td>\n",
       "      <td>-0.129777</td>\n",
       "      <td>-0.343433</td>\n",
       "      <td>0.305134</td>\n",
       "      <td>-0.088839</td>\n",
       "      <td>-0.057424</td>\n",
       "      <td>-0.198727</td>\n",
       "      <td>-0.082732</td>\n",
       "      <td>-0.034305</td>\n",
       "      <td>-0.074500</td>\n",
       "      <td>0.231362</td>\n",
       "      <td>-0.109168</td>\n",
       "      <td>0.271059</td>\n",
       "      <td>-0.212390</td>\n",
       "      <td>0.103423</td>\n",
       "      <td>-0.013184</td>\n",
       "      <td>1.000000</td>\n",
       "      <td>-0.039502</td>\n",
       "      <td>-0.053756</td>\n",
       "    </tr>\n",
       "    <tr>\n",
       "      <th>War</th>\n",
       "      <td>0.059019</td>\n",
       "      <td>0.021201</td>\n",
       "      <td>-0.034062</td>\n",
       "      <td>-0.111994</td>\n",
       "      <td>-0.058842</td>\n",
       "      <td>-0.026844</td>\n",
       "      <td>0.118691</td>\n",
       "      <td>-0.061101</td>\n",
       "      <td>-0.041877</td>\n",
       "      <td>-0.000329</td>\n",
       "      <td>0.329932</td>\n",
       "      <td>-0.057616</td>\n",
       "      <td>-0.029061</td>\n",
       "      <td>-0.035202</td>\n",
       "      <td>-0.002698</td>\n",
       "      <td>-0.054758</td>\n",
       "      <td>-0.007229</td>\n",
       "      <td>-0.039502</td>\n",
       "      <td>1.000000</td>\n",
       "      <td>0.005367</td>\n",
       "    </tr>\n",
       "    <tr>\n",
       "      <th>Western</th>\n",
       "      <td>0.054935</td>\n",
       "      <td>0.033391</td>\n",
       "      <td>-0.014628</td>\n",
       "      <td>-0.044932</td>\n",
       "      <td>-0.012991</td>\n",
       "      <td>-0.020069</td>\n",
       "      <td>-0.016239</td>\n",
       "      <td>-0.029936</td>\n",
       "      <td>-0.029587</td>\n",
       "      <td>-0.011172</td>\n",
       "      <td>0.038339</td>\n",
       "      <td>-0.040813</td>\n",
       "      <td>-0.001273</td>\n",
       "      <td>-0.024438</td>\n",
       "      <td>-0.013366</td>\n",
       "      <td>-0.041622</td>\n",
       "      <td>-0.005404</td>\n",
       "      <td>-0.053756</td>\n",
       "      <td>0.005367</td>\n",
       "      <td>1.000000</td>\n",
       "    </tr>\n",
       "  </tbody>\n",
       "</table>\n",
       "</div>"
      ],
      "text/plain": [
       "                   Action  Adventure  Animation    Comedy     Crime  \\\n",
       "Action           1.000000   0.362317  -0.067958 -0.162332  0.149805   \n",
       "Adventure        0.362317   1.000000   0.194620 -0.072852 -0.093975   \n",
       "Animation       -0.067958   0.194620   1.000000  0.084477 -0.093413   \n",
       "Comedy          -0.162332  -0.072852   0.084477  1.000000 -0.087893   \n",
       "Crime            0.149805  -0.093975  -0.093413 -0.087893  1.000000   \n",
       "Documentary     -0.076057  -0.060186  -0.034448 -0.082394 -0.059023   \n",
       "Drama           -0.212655  -0.220948  -0.180509 -0.221215  0.054740   \n",
       "Family          -0.097238   0.229799   0.534346  0.161503 -0.128058   \n",
       "Fantasy          0.071720   0.234295   0.132738  0.021268 -0.107874   \n",
       "Foreign         -0.018678  -0.024291  -0.007567 -0.017100 -0.006804   \n",
       "History          0.022215  -0.014832  -0.046728 -0.131324 -0.046439   \n",
       "Horror          -0.077234  -0.119118  -0.079010 -0.153513 -0.077628   \n",
       "Music           -0.090564  -0.068962   0.025357  0.038754 -0.049290   \n",
       "Mystery         -0.050468  -0.044181  -0.059639 -0.165681  0.122192   \n",
       "Romance         -0.191829  -0.118099  -0.088621  0.180638 -0.127101   \n",
       "Science Fiction  0.228162   0.208297   0.012733 -0.116117 -0.112895   \n",
       "TV Movie        -0.011152  -0.018255   0.014592  0.011833 -0.002436   \n",
       "Thriller         0.266263  -0.008531  -0.129777 -0.343433  0.305134   \n",
       "War              0.059019   0.021201  -0.034062 -0.111994 -0.058842   \n",
       "Western          0.054935   0.033391  -0.014628 -0.044932 -0.012991   \n",
       "\n",
       "                 Documentary     Drama    Family   Fantasy   Foreign  \\\n",
       "Action             -0.076057 -0.212655 -0.097238  0.071720 -0.018678   \n",
       "Adventure          -0.060186 -0.220948  0.229799  0.234295 -0.024291   \n",
       "Animation          -0.034448 -0.180509  0.534346  0.132738 -0.007567   \n",
       "Comedy             -0.082394 -0.221215  0.161503  0.021268 -0.017100   \n",
       "Crime              -0.059023  0.054740 -0.128058 -0.107874 -0.006804   \n",
       "Documentary         1.000000 -0.127101 -0.030110 -0.047514  0.020569   \n",
       "Drama              -0.127101  1.000000 -0.169866 -0.153594  0.053116   \n",
       "Family             -0.030110 -0.169866  1.000000  0.248018 -0.005269   \n",
       "Fantasy            -0.047514 -0.153594  0.248018  1.000000 -0.026450   \n",
       "Foreign             0.020569  0.053116 -0.005269 -0.026450  1.000000   \n",
       "History             0.011182  0.167946 -0.068332 -0.064451  0.020209   \n",
       "Horror             -0.048774 -0.223391 -0.119148  0.016959 -0.029673   \n",
       "Music               0.078824  0.036879  0.042557 -0.020595 -0.017075   \n",
       "Mystery            -0.037346  0.012879 -0.081692 -0.033367 -0.023810   \n",
       "Romance            -0.073307  0.186573 -0.076445 -0.028556  0.016710   \n",
       "Science Fiction    -0.054166 -0.206234  0.001551  0.086377 -0.030153   \n",
       "TV Movie           -0.006258  0.011799  0.035462 -0.012795 -0.003484   \n",
       "Thriller           -0.088839 -0.057424 -0.198727 -0.082732 -0.034305   \n",
       "War                -0.026844  0.118691 -0.061101 -0.041877 -0.000329   \n",
       "Western            -0.020069 -0.016239 -0.029936 -0.029587 -0.011172   \n",
       "\n",
       "                  History    Horror     Music   Mystery   Romance  \\\n",
       "Action           0.022215 -0.077234 -0.090564 -0.050468 -0.191829   \n",
       "Adventure       -0.014832 -0.119118 -0.068962 -0.044181 -0.118099   \n",
       "Animation       -0.046728 -0.079010  0.025357 -0.059639 -0.088621   \n",
       "Comedy          -0.131324 -0.153513  0.038754 -0.165681  0.180638   \n",
       "Crime           -0.046439 -0.077628 -0.049290  0.122192 -0.127101   \n",
       "Documentary      0.011182 -0.048774  0.078824 -0.037346 -0.073307   \n",
       "Drama            0.167946 -0.223391  0.036879  0.012879  0.186573   \n",
       "Family          -0.068332 -0.119148  0.042557 -0.081692 -0.076445   \n",
       "Fantasy         -0.064451  0.016959 -0.020595 -0.033367 -0.028556   \n",
       "Foreign          0.020209 -0.029673 -0.017075 -0.023810  0.016710   \n",
       "History          1.000000 -0.068902 -0.008702 -0.045788 -0.017979   \n",
       "Horror          -0.068902  1.000000 -0.059878  0.135466 -0.142209   \n",
       "Music           -0.008702 -0.059878  1.000000 -0.043907  0.073116   \n",
       "Mystery         -0.045788  0.135466 -0.043907  1.000000 -0.085229   \n",
       "Romance         -0.017979 -0.142209  0.073116 -0.085229  1.000000   \n",
       "Science Fiction -0.073475  0.079029 -0.064593  0.020770 -0.117941   \n",
       "TV Movie        -0.008489  0.002116  0.018277 -0.011518  0.019677   \n",
       "Thriller        -0.074500  0.231362 -0.109168  0.271059 -0.212390   \n",
       "War              0.329932 -0.057616 -0.029061 -0.035202 -0.002698   \n",
       "Western          0.038339 -0.040813 -0.001273 -0.024438 -0.013366   \n",
       "\n",
       "                 Science Fiction  TV Movie  Thriller       War   Western  \n",
       "Action                  0.228162 -0.011152  0.266263  0.059019  0.054935  \n",
       "Adventure               0.208297 -0.018255 -0.008531  0.021201  0.033391  \n",
       "Animation               0.012733  0.014592 -0.129777 -0.034062 -0.014628  \n",
       "Comedy                 -0.116117  0.011833 -0.343433 -0.111994 -0.044932  \n",
       "Crime                  -0.112895 -0.002436  0.305134 -0.058842 -0.012991  \n",
       "Documentary            -0.054166 -0.006258 -0.088839 -0.026844 -0.020069  \n",
       "Drama                  -0.206234  0.011799 -0.057424  0.118691 -0.016239  \n",
       "Family                  0.001551  0.035462 -0.198727 -0.061101 -0.029936  \n",
       "Fantasy                 0.086377 -0.012795 -0.082732 -0.041877 -0.029587  \n",
       "Foreign                -0.030153 -0.003484 -0.034305 -0.000329 -0.011172  \n",
       "History                -0.073475 -0.008489 -0.074500  0.329932  0.038339  \n",
       "Horror                  0.079029  0.002116  0.231362 -0.057616 -0.040813  \n",
       "Music                  -0.064593  0.018277 -0.109168 -0.029061 -0.001273  \n",
       "Mystery                 0.020770 -0.011518  0.271059 -0.035202 -0.024438  \n",
       "Romance                -0.117941  0.019677 -0.212390 -0.002698 -0.013366  \n",
       "Science Fiction         1.000000 -0.014586  0.103423 -0.054758 -0.041622  \n",
       "TV Movie               -0.014586  1.000000 -0.013184 -0.007229 -0.005404  \n",
       "Thriller                0.103423 -0.013184  1.000000 -0.039502 -0.053756  \n",
       "War                    -0.054758 -0.007229 -0.039502  1.000000  0.005367  \n",
       "Western                -0.041622 -0.005404 -0.053756  0.005367  1.000000  "
      ]
     },
     "execution_count": 141,
     "metadata": {},
     "output_type": "execute_result"
    }
   ],
   "source": [
    "pd.DataFrame(y, columns=labeler.classes_).corr() \n",
    "#Compute pairwise correlation of columns, excluding NA/null values.Minimum number of observations required per pair of columns to have a valid result."
   ]
  },
  {
   "cell_type": "code",
   "execution_count": 4,
   "metadata": {},
   "outputs": [],
   "source": [
    "import matplotlib.pyplot as plt"
   ]
  },
  {
   "cell_type": "code",
   "execution_count": 5,
   "metadata": {},
   "outputs": [],
   "source": [
    "#ou may be wondering why the x-axis ranges from 0-15 and the y-axis from 0. \n",
    "#If you provide a single list or array to the plot() command, matplotlib assumes it is a sequence of y values, and automatically generates the x values for you. Since python ranges start with 0,\n",
    "#the default x vector has the same length as y but starts with 0. Hence the x data are [0,1,2,3]."
   ]
  },
  {
   "cell_type": "code",
   "execution_count": 143,
   "metadata": {},
   "outputs": [
    {
     "data": {
      "text/plain": [
       "<matplotlib.image.AxesImage at 0x21d514c4128>"
      ]
     },
     "execution_count": 143,
     "metadata": {},
     "output_type": "execute_result"
    },
    {
     "data": {
      "image/png": "[encoded data removed]",
      "text/plain": [
       "<Figure size 432x288 with 1 Axes>"
      ]
     },
     "metadata": {
      "needs_background": "light"
     },
     "output_type": "display_data"
    }
   ],
   "source": [
    "plt.imshow(pd.DataFrame(y).corr())\n"
   ]
  },
  {
   "cell_type": "code",
   "execution_count": 144,
   "metadata": {},
   "outputs": [],
   "source": [
    "top = sorted(list(zip(y.sum(axis=0), labeler.classes_)))[::-1]\n",
    "# re-arrange the array of genres by column value greatest to least"
   ]
  },
  {
   "cell_type": "code",
   "execution_count": 145,
   "metadata": {},
   "outputs": [
    {
     "data": {
      "text/plain": [
       "[(2289, 'Drama'),\n",
       " (1719, 'Comedy'),\n",
       " (1270, 'Thriller'),\n",
       " (1147, 'Action'),\n",
       " (893, 'Romance'),\n",
       " (785, 'Adventure'),\n",
       " (694, 'Crime'),\n",
       " (533, 'Science Fiction'),\n",
       " (518, 'Horror'),\n",
       " (511, 'Family'),\n",
       " (421, 'Fantasy'),\n",
       " (347, 'Mystery'),\n",
       " (231, 'Animation'),\n",
       " (195, 'History'),\n",
       " (185, 'Music'),\n",
       " (143, 'War'),\n",
       " (108, 'Documentary'),\n",
       " (81, 'Western'),\n",
       " (34, 'Foreign'),\n",
       " (8, 'TV Movie')]"
      ]
     },
     "execution_count": 145,
     "metadata": {},
     "output_type": "execute_result"
    }
   ],
   "source": [
    "top"
   ]
  },
  {
   "cell_type": "code",
   "execution_count": 146,
   "metadata": {},
   "outputs": [
    {
     "data": {
      "text/plain": [
       "['Action',\n",
       " 'Adventure',\n",
       " 'Comedy',\n",
       " 'Crime',\n",
       " 'Family',\n",
       " 'Horror',\n",
       " 'Romance',\n",
       " 'Science Fiction',\n",
       " 'Thriller']"
      ]
     },
     "execution_count": 146,
     "metadata": {},
     "output_type": "execute_result"
    }
   ],
   "source": [
    "#getting the top genres from the \"top\"\n",
    "top_genres =sorted([t[1] for t in top][1:10])\n",
    "top_genres"
   ]
  },
  {
   "cell_type": "code",
   "execution_count": 147,
   "metadata": {},
   "outputs": [
    {
     "name": "stderr",
     "output_type": "stream",
     "text": [
      "C:\\Users\\Amrit Raj Singh\\Anaconda3\\lib\\site-packages\\sklearn\\preprocessing\\label.py:935: UserWarning: unknown class(es) ['this is a'] will be ignored\n",
      "  .format(sorted(unknown, key=str)))\n"
     ]
    },
    {
     "data": {
      "text/plain": [
       "array([[0, 0, 0, 0, 0, 1, 0, 0, 0]])"
      ]
     },
     "execution_count": 147,
     "metadata": {},
     "output_type": "execute_result"
    }
   ],
   "source": [
    "#Example : Drama class is not present in the top_genres, so it will be ignored\n",
    "top_labeler = MultiLabelBinarizer(classes=top_genres)\n",
    "top_labeler.fit(genres_strings)\n",
    "top_labeler.transform([['this is a' ,'Horror']])\n"
   ]
  },
  {
   "cell_type": "markdown",
   "metadata": {},
   "source": [
    "transforming the genres_string to contains only the top genres i.e \n",
    "it will excluded the 'Animation', 'Documentary', 'Drama', 'Fantasy', 'Foreign', 'History', 'Music', 'Mystery', 'TV Movie', 'War', 'Western']\n",
    "\n"
   ]
  },
  {
   "cell_type": "code",
   "execution_count": 148,
   "metadata": {},
   "outputs": [
    {
     "name": "stderr",
     "output_type": "stream",
     "text": [
      "C:\\Users\\Amrit Raj Singh\\Anaconda3\\lib\\site-packages\\sklearn\\preprocessing\\label.py:935: UserWarning: unknown class(es) ['Animation', 'Documentary', 'Drama', 'Fantasy', 'Foreign', 'History', 'Music', 'Mystery', 'TV Movie', 'War', 'Western'] will be ignored\n",
      "  .format(sorted(unknown, key=str)))\n"
     ]
    }
   ],
   "source": [
    "y = top_labeler.transform(genres_strings)"
   ]
  },
  {
   "cell_type": "code",
   "execution_count": 149,
   "metadata": {},
   "outputs": [
    {
     "data": {
      "text/plain": [
       "(4755, 4105)"
      ]
     },
     "execution_count": 149,
     "metadata": {},
     "output_type": "execute_result"
    }
   ],
   "source": [
    "len(y.sum(axis=1)!=0), sum(y.sum(axis=1)!=0)"
   ]
  },
  {
   "cell_type": "code",
   "execution_count": 150,
   "metadata": {},
   "outputs": [
    {
     "data": {
      "text/plain": [
       "(650, 4755)"
      ]
     },
     "execution_count": 150,
     "metadata": {},
     "output_type": "execute_result"
    }
   ],
   "source": [
    "no_labels_mask = y.sum(axis=1)==0\n",
    "sum(no_labels_mask),len(no_labels_mask)"
   ]
  },
  {
   "cell_type": "code",
   "execution_count": 151,
   "metadata": {},
   "outputs": [],
   "source": [
    "from sklearn.pipeline import Pipeline\n",
    "from sklearn.model_selection import train_test_split"
   ]
  },
  {
   "cell_type": "code",
   "execution_count": 152,
   "metadata": {},
   "outputs": [],
   "source": [
    "X_train, X_test, y_train, y_test = train_test_split(\n",
    "    X[~no_labels_mask], y[~no_labels_mask], test_size=0.33, random_state=42)\n"
   ]
  },
  {
   "cell_type": "code",
   "execution_count": 153,
   "metadata": {},
   "outputs": [],
   "source": [
    "from sklearn.feature_extraction.text import TfidfTransformer \n",
    "from sklearn.feature_extraction.text import TfidfVectorizer"
   ]
  },
  {
   "cell_type": "code",
   "execution_count": 154,
   "metadata": {},
   "outputs": [],
   "source": [
    "counter = TfidfVectorizer(stop_words='english', lowercase=True, max_features=1000)\n",
    "#removing the stopwords"
   ]
  },
  {
   "cell_type": "code",
   "execution_count": 155,
   "metadata": {},
   "outputs": [],
   "source": [
    "#Using the MultiBomial Naives Classifer to classify the genre of the movie according to user's review\n",
    "\n",
    "from sklearn.pipeline import Pipeline\n",
    "from sklearn.naive_bayes import MultinomialNB\n",
    "from sklearn.neural_network import MLPClassifier"
   ]
  },
  {
   "cell_type": "code",
   "execution_count": 156,
   "metadata": {},
   "outputs": [],
   "source": [
    "pipe = Pipeline(\n",
    "    [\n",
    "        ('text_transform', counter),\n",
    "        ('predictor', MLPClassifier(warm_start=True, max_iter=5, hidden_layer_sizes=(10)))\n",
    "#         ('predictor', RandomForestClassifier(class_weight='balanced'))\n",
    "    ])"
   ]
  },
  {
   "cell_type": "code",
   "execution_count": 157,
   "metadata": {},
   "outputs": [
    {
     "name": "stderr",
     "output_type": "stream",
     "text": [
      "C:\\Users\\Amrit Raj Singh\\Anaconda3\\lib\\site-packages\\sklearn\\neural_network\\multilayer_perceptron.py:562: ConvergenceWarning: Stochastic Optimizer: Maximum iterations (5) reached and the optimization hasn't converged yet.\n",
      "  % self.max_iter, ConvergenceWarning)\n"
     ]
    }
   ],
   "source": [
    "for i in range(200):\n",
    "    pipe.fit(X_train, y_train)\n",
    "    #print('epoc {0}, train {1:.3f}, test {2:.3f}'.format(i, \n",
    "                                                       #  pipe.score(X_train, y_train),\n",
    "                                                         #pipe.score(X_test, y_test)))\n",
    "    "
   ]
  },
  {
   "cell_type": "code",
   "execution_count": 158,
   "metadata": {},
   "outputs": [
    {
     "data": {
      "text/plain": [
       "0.5356363636363637"
      ]
     },
     "execution_count": 158,
     "metadata": {},
     "output_type": "execute_result"
    }
   ],
   "source": [
    "pipe.score(X_train,y_train)"
   ]
  },
  {
   "cell_type": "markdown",
   "metadata": {},
   "source": [
    "# Fit a naive bayes model to the training data.\n",
    "# This will train the model using the word counts we computer, and the existing classifications in the training set.\n",
    "nb = MultinomialNB()"
   ]
  },
  {
   "cell_type": "code",
   "execution_count": 159,
   "metadata": {},
   "outputs": [
    {
     "data": {
      "text/plain": [
       "0.15276752767527677"
      ]
     },
     "execution_count": 159,
     "metadata": {},
     "output_type": "execute_result"
    }
   ],
   "source": [
    "pipe.score(X_test, y_test)"
   ]
  },
  {
   "cell_type": "code",
   "execution_count": 160,
   "metadata": {},
   "outputs": [
    {
     "name": "stdout",
     "output_type": "stream",
     "text": [
      "[[0.03950543 0.00121127 0.97636458 0.01439395 0.01213858 0.0351385\n",
      "  0.53484556 0.00194971 0.03274295]]\n"
     ]
    },
    {
     "data": {
      "text/plain": [
       "array(['Comedy', 'Romance'], dtype=object)"
      ]
     },
     "execution_count": 160,
     "metadata": {},
     "output_type": "execute_result"
    }
   ],
   "source": [
    "def get_genres(text):\n",
    "    print(pipe.predict_proba([text]))\n",
    "    return top_labeler.classes_[pipe.predict([text]).ravel().astype('bool')]\n",
    "\n",
    "get_genres('It was a scary movie')"
   ]
  },
  {
   "cell_type": "code",
   "execution_count": null,
   "metadata": {},
   "outputs": [],
   "source": []
  }
 ],
 "metadata": {
  "kernelspec": {
   "display_name": "Python 3",
   "language": "python",
   "name": "python3"
  },
  "language_info": {
   "codemirror_mode": {
    "name": "ipython",
    "version": 3
   },
   "file_extension": ".py",
   "mimetype": "text/x-python",
   "name": "python",
   "nbconvert_exporter": "python",
   "pygments_lexer": "ipython3",
   "version": "3.7.1"
  }
 },
 "nbformat": 4,
 "nbformat_minor": 2
}
